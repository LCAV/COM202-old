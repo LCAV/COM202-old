{
 "cells": [
  {
   "cell_type": "code",
   "execution_count": 1,
   "id": "09fbbaef-3d17-4dca-bd73-4ff186a3fa51",
   "metadata": {},
   "outputs": [],
   "source": [
    "import matplotlib.pyplot as plt\n",
    "import ipywidgets as widgets\n",
    "import numpy as np\n",
    "from IPython import display "
   ]
  },
  {
   "cell_type": "code",
   "execution_count": 3,
   "id": "5de0c521-b579-4ad6-bafc-e4b08cc14d9c",
   "metadata": {},
   "outputs": [
    {
     "data": {
      "application/vnd.jupyter.widget-view+json": {
       "model_id": "d3c873aead3b44b0971a6b176b34d5dd",
       "version_major": 2,
       "version_minor": 0
      },
      "text/plain": [
       "VBox(children=(interactive(children=(IntSlider(value=0, continuous_update=False, description='scale'), Output(…"
      ]
     },
     "execution_count": 3,
     "metadata": {},
     "output_type": "execute_result"
    }
   ],
   "source": [
    "out = widgets.Output()\n",
    "\n",
    "i = 0\n",
    "\n",
    "def PlotAndNote(scale):\n",
    "    global i\n",
    "    x = np.arange(0, scale*np.pi,0.1)   # start,stop,step\n",
    "    y = np.sin(x)\n",
    "    plt.plot(x,y)\n",
    "    with out:\n",
    "        if scale == 0:\n",
    "            print('did work %s'%i)\n",
    "            i+=1\n",
    "        else:\n",
    "            print('did work %s'%i)\n",
    "            print('plotting continued with value %s'%scale)\n",
    "            i+=1\n",
    "\n",
    "scale_slider=widgets.IntSlider(min=0,max=100,value=0, continuous_update = False) #Create our intslider such that the range is [0,100] and default is 0; and use `continuous_update = False` to restrict execution to mouse release events,see https://ipywidgets.readthedocs.io/en/stable/examples/Using%20Interact.html#disabling-continuous-updates\n",
    "\n",
    "gui = widgets.interactive(PlotAndNote, scale=scale_slider) #Create our interactive graphic with the slider as the argument\n",
    "out_vbox = widgets.VBox([gui,out])\n",
    "out_vbox"
   ]
  },
  {
   "cell_type": "code",
   "execution_count": 13,
   "id": "6475e8d9-2c9e-4179-9cde-812ee62adabc",
   "metadata": {},
   "outputs": [
    {
     "data": {
      "application/vnd.jupyter.widget-view+json": {
       "model_id": "30f0f567158d4be7a79453449d8369b7",
       "version_major": 2,
       "version_minor": 0
      },
      "text/plain": [
       "VBox(children=(interactive(children=(IntSlider(value=1, description='freq', max=10, min=1), Output()), _dom_cl…"
      ]
     },
     "execution_count": 13,
     "metadata": {},
     "output_type": "execute_result"
    }
   ],
   "source": [
    "import matplotlib.pyplot as plt\n",
    "import ipywidgets as widgets\n",
    "import numpy as np\n",
    "from IPython import display \n",
    "\n",
    "def TestPlot(freq):\n",
    "    plt.plot(np.sin(np.linspace(0, 2 * np.pi * freq, 100)))\n",
    "\n",
    "freq_slider = widgets.IntSlider(min=1, max=10, value=1) \n",
    "gui = widgets.interactive(TestPlot, freq=freq_slider)\n",
    "out = widgets.Output()\n",
    "out_vbox = widgets.VBox([gui,out])\n",
    "out_vbox"
   ]
  },
  {
   "cell_type": "code",
   "execution_count": null,
   "id": "27b99521-6728-4728-9d03-2d9b43144cba",
   "metadata": {},
   "outputs": [],
   "source": []
  }
 ],
 "metadata": {
  "kernelspec": {
   "display_name": "Python 3 (ipykernel)",
   "language": "python",
   "name": "python3"
  },
  "language_info": {
   "codemirror_mode": {
    "name": "ipython",
    "version": 3
   },
   "file_extension": ".py",
   "mimetype": "text/x-python",
   "name": "python",
   "nbconvert_exporter": "python",
   "pygments_lexer": "ipython3",
   "version": "3.12.3"
  }
 },
 "nbformat": 4,
 "nbformat_minor": 5
}
